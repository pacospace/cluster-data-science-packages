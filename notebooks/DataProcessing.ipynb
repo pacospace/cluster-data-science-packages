{
 "cells": [
  {
   "cell_type": "markdown",
   "metadata": {},
   "source": [
    "# Data Science Packages Processing\n",
    "\n",
    "This first notebook pre-process all README from a list of Data Science packages and output cleaned dataset that can be input to other tasks (e.g Clustering, Classification)"
   ]
  },
  {
   "cell_type": "markdown",
   "metadata": {},
   "source": [
    "## Import libraries"
   ]
  },
  {
   "cell_type": "code",
   "execution_count": 58,
   "metadata": {},
   "outputs": [],
   "source": [
    "import json\n",
    "import subprocess\n",
    "import enchant\n",
    "\n",
    "import pandas as pd\n",
    "import spacy\n",
    "\n",
    "from pathlib import Path\n",
    "\n",
    "from tqdm import tqdm"
   ]
  },
  {
   "cell_type": "code",
   "execution_count": 59,
   "metadata": {},
   "outputs": [],
   "source": [
    "# The installation doesn’t automatically download the English model.\n",
    "try:\n",
    "    subprocess.run(\n",
    "        f\"pipenv run python3 -m spacy download en\",\n",
    "        shell=True,\n",
    "    )\n",
    "\n",
    "except Exception as e :\n",
    "    print(f\"Could not enter environment {e}\")\n",
    "\n",
    "try:\n",
    "    _NLP_SPACY = spacy.load(\"en\")\n",
    "except Exception as load_model:\n",
    "    print(load_model)"
   ]
  },
  {
   "cell_type": "code",
   "execution_count": 60,
   "metadata": {},
   "outputs": [],
   "source": [
    "# Introduce the US vocabulary\n",
    "US_VOCABULARY = enchant.Dict(\"en_US\")"
   ]
  },
  {
   "cell_type": "code",
   "execution_count": 61,
   "metadata": {},
   "outputs": [
    {
     "data": {
      "text/html": [
       "<div>\n",
       "<style scoped>\n",
       "    .dataframe tbody tr th:only-of-type {\n",
       "        vertical-align: middle;\n",
       "    }\n",
       "\n",
       "    .dataframe tbody tr th {\n",
       "        vertical-align: top;\n",
       "    }\n",
       "\n",
       "    .dataframe thead th {\n",
       "        text-align: right;\n",
       "    }\n",
       "</style>\n",
       "<table border=\"1\" class=\"dataframe\">\n",
       "  <thead>\n",
       "    <tr style=\"text-align: right;\">\n",
       "      <th></th>\n",
       "      <th>project_org_readme</th>\n",
       "      <th>raw_text</th>\n",
       "    </tr>\n",
       "  </thead>\n",
       "  <tbody>\n",
       "    <tr>\n",
       "      <th>alibi</th>\n",
       "      <td>SeldonIO/alibi/README.md</td>\n",
       "      <td>&lt;p align=\"center\"&gt;\\n  &lt;img src=\"doc/source/_st...</td>\n",
       "    </tr>\n",
       "    <tr>\n",
       "      <th>altair</th>\n",
       "      <td>altair-viz/altair/README.md</td>\n",
       "      <td># Altair &lt;a href=\"https://altair-viz.github.io...</td>\n",
       "    </tr>\n",
       "    <tr>\n",
       "      <th>ax-platform</th>\n",
       "      <td>facebook/Ax/README.md</td>\n",
       "      <td>&lt;img width=\"300\" src=\"website/static/img/ax_lo...</td>\n",
       "    </tr>\n",
       "    <tr>\n",
       "      <th>arviz</th>\n",
       "      <td>arviz-devs/arviz/README.md</td>\n",
       "      <td>&lt;img src=\"https://arviz-devs.github.io/arviz/_...</td>\n",
       "    </tr>\n",
       "    <tr>\n",
       "      <th>autogluon</th>\n",
       "      <td>awslabs/autogluon/README.md</td>\n",
       "      <td>\\n\\n&lt;div align=\"left\"&gt;\\n  &lt;img src=\"https://us...</td>\n",
       "    </tr>\n",
       "    <tr>\n",
       "      <th>...</th>\n",
       "      <td>...</td>\n",
       "      <td>...</td>\n",
       "    </tr>\n",
       "    <tr>\n",
       "      <th>vincent</th>\n",
       "      <td>wrobstory/vincent/README.md</td>\n",
       "      <td># Status\\n\\n#### 2016-06-18 Update\\n\\nIf you a...</td>\n",
       "    </tr>\n",
       "    <tr>\n",
       "      <th>voila</th>\n",
       "      <td>voila-dashboards/voila/README.md</td>\n",
       "      <td># ![voila](docs/source/voila-logo.svg)\\n\\n[![D...</td>\n",
       "    </tr>\n",
       "    <tr>\n",
       "      <th>word2vec</th>\n",
       "      <td>danielfrg/word2vec/README.md</td>\n",
       "      <td>word2vec\\n========\\n\\n[![travis-ci](https://ap...</td>\n",
       "    </tr>\n",
       "    <tr>\n",
       "      <th>xgboost</th>\n",
       "      <td>dmlc/xgboost/README.md</td>\n",
       "      <td>&lt;img src=https://raw.githubusercontent.com/dml...</td>\n",
       "    </tr>\n",
       "    <tr>\n",
       "      <th>xlrd</th>\n",
       "      <td>python-excel/xlrd/README.md</td>\n",
       "      <td>[![Build Status](https://travis-ci.org/python-...</td>\n",
       "    </tr>\n",
       "  </tbody>\n",
       "</table>\n",
       "<p>119 rows × 2 columns</p>\n",
       "</div>"
      ],
      "text/plain": [
       "                           project_org_readme  \\\n",
       "alibi                SeldonIO/alibi/README.md   \n",
       "altair            altair-viz/altair/README.md   \n",
       "ax-platform             facebook/Ax/README.md   \n",
       "arviz              arviz-devs/arviz/README.md   \n",
       "autogluon         awslabs/autogluon/README.md   \n",
       "...                                       ...   \n",
       "vincent           wrobstory/vincent/README.md   \n",
       "voila        voila-dashboards/voila/README.md   \n",
       "word2vec         danielfrg/word2vec/README.md   \n",
       "xgboost                dmlc/xgboost/README.md   \n",
       "xlrd              python-excel/xlrd/README.md   \n",
       "\n",
       "                                                      raw_text  \n",
       "alibi        <p align=\"center\">\\n  <img src=\"doc/source/_st...  \n",
       "altair       # Altair <a href=\"https://altair-viz.github.io...  \n",
       "ax-platform  <img width=\"300\" src=\"website/static/img/ax_lo...  \n",
       "arviz        <img src=\"https://arviz-devs.github.io/arviz/_...  \n",
       "autogluon    \\n\\n<div align=\"left\">\\n  <img src=\"https://us...  \n",
       "...                                                        ...  \n",
       "vincent      # Status\\n\\n#### 2016-06-18 Update\\n\\nIf you a...  \n",
       "voila        # ![voila](docs/source/voila-logo.svg)\\n\\n[![D...  \n",
       "word2vec     word2vec\\n========\\n\\n[![travis-ci](https://ap...  \n",
       "xgboost      <img src=https://raw.githubusercontent.com/dml...  \n",
       "xlrd         [![Build Status](https://travis-ci.org/python-...  \n",
       "\n",
       "[119 rows x 2 columns]"
      ]
     },
     "execution_count": 61,
     "metadata": {},
     "output_type": "execute_result"
    }
   ],
   "source": [
    "current_path = Path.cwd().parents[0]\n",
    "raw_data_path = current_path.joinpath(\"data/raw\")\n",
    "raw_data_file_path = raw_data_path.joinpath(\"hundreds_data_science_packages_initial_dataset.json\")\n",
    "\n",
    "with open(raw_data_file_path, \"r\") as retrieved_file:\n",
    "    raw_files = json.load(retrieved_file)\n",
    "\n",
    "data_science_readmes_pd = pd.DataFrame(raw_files).transpose()\n",
    "data_science_readmes_pd\n",
    "data_science_readmes_pd.rename(columns={\"file_name\": \"project_org_readme\", \"raw_text\": \"raw_text\"})"
   ]
  },
  {
   "cell_type": "code",
   "execution_count": 62,
   "metadata": {},
   "outputs": [
    {
     "name": "stdout",
     "output_type": "stream",
     "text": [
      "Common words... \n",
      "['a', 'about', 'above', 'after', 'again', 'against', 'all', 'also', 'am', 'an', 'and', 'any', 'are', \"aren't\", 'as', 'at', 'b', 'be', 'because', 'been', 'before', 'being', 'below', 'between', 'both', 'but', 'by', 'c', 'can', \"can't\", 'cannot', 'cc', 'come', 'could', \"couldn't\", 'did', \"didn't\", 'different', 'do', 'does', \"doesn't\", 'doing', \"don't\", 'down', 'during', 'each', 'easy', 'en', 'etc', 'few', 'for', 'from', 'full', 'further', 'get', 'go', 'good', 'had', \"hadn't\", 'has', \"hasn't\", 'have', \"haven't\", 'having', 'he', \"he'd\", \"he'll\", \"he's\", 'her', 'here', \"here's\", 'hers', 'herself', 'him', 'himself', 'his', 'how', \"how's\", 'i', \"i'd\", \"i'll\", \"i'm\", \"i've\", 'if', 'in', 'inc', 'instead', 'into', 'is', \"isn't\", 'it', \"it's\", 'its', 'itself', \"let's\", 'many', 'me', 'more', 'most', \"mustn't\", 'my', 'myself', 'need', 'new', 'no', 'non', 'nor', 'not', 'obviously', 'of', 'off', 'old', 'on', 'once', 'only', 'or', 'other', 'ought', 'our', 'ours', 'ourselves', 'out', 'over', 'own', 'p', 'pr', 'q', 'r', 'really', 's', 'same', \"shan't\", 'she', \"she'd\", \"she'll\", \"she's\", 'should', \"shouldn't\", 'simple', 'so', 'some', 'sure', 'such', 't', 'than', 'that', \"that's\", 'the', 'their', 'theirs', 'them', 'themselves', 'then', 'there', \"there's\", 'these', 'they', \"they'd\", \"they'll\", \"they're\", \"they've\", 'this', 'those', 'through', 'to', 'today', 'too', 'towards', 'under', 'until', 'us', 'up', 'very', 'vs', 'was', \"wasn't\", 'we', \"we'd\", \"we'll\", \"we're\", \"we've\", 'were', \"weren't\", 'what', \"what's\", 'when', \"when's\", 'where', \"where's\", 'which', 'while', 'who', \"who's\", 'whom', 'why', \"why's\", 'with', 'will', \"won't\", 'would', \"wouldn't\", 'you', \"you'd\", \"you'll\", \"you're\", \"you've\", 'your', 'yours', 'yourself', 'yourselves', '']\n"
     ]
    }
   ],
   "source": [
    "external_data_path = current_path.joinpath(\"data/external\")\n",
    "# Retrieve list of common words for normalization\n",
    "with open(f\"{external_data_path}/common_words.txt\", \"r\") as retrieved_file:\n",
    "    common_words_txt = retrieved_file.read()\n",
    "\n",
    "common_words = [word for word in common_words_txt.split(\"\\n\")]\n",
    "print(f\"Common words... \\n{common_words}\")"
   ]
  },
  {
   "cell_type": "code",
   "execution_count": 68,
   "metadata": {},
   "outputs": [
    {
     "name": "stdout",
     "output_type": "stream",
     "text": [
      "Specific Common words... \n",
      "['abbr', 'additional', 'alt', 'amazon', 'application', 'available', 'binary', 'bug', 'citation', 'chat', 'check', 'cite', 'class', 'code', 'command', 'community', 'consider', 'contribute', 'contribution', 'datum', 'dependency', 'directory', 'detail', 'developer', 'development', 'distribution', 'doc', 'docs', 'document', 'documentation', 'environment', 'example', 'file', 'first', 'google', 'git', 'ids', 'implementation', 'import', 'include', 'instance', 'instances', 'installation', 'interface', 'issue', 'items', 'last', 'late', 'learn', 'library', 'license', 'like', 'ls', 'main', 'may', 'module', 'names', 'model', 'node', 'object', 'one', 'page', 'path', 'pip', 'package', 'parameter', 'please', 'project', 'python', 'release', 'repository', 'request', 'requirement', 'result', 'see', 'self', 'server', 'service', 'sh', 'software', 'source', 'status', 'system', 'target', 'type', 'tool', 'tutorial', 'usage', 'user', 'value', 'version', 'via', 'way', 'website', 'well', 'windows', '']\n"
     ]
    }
   ],
   "source": [
    "# Retrieve list of common words for normalization\n",
    "with open(f\"{external_data_path}/specific_common_words.txt\", \"r\") as retrieved_file:\n",
    "    specific_common_words_txt = retrieved_file.read()\n",
    "\n",
    "specific_common_words = [word for word in specific_common_words_txt.split(\"\\n\")]\n",
    "print(f\"Specific Common words... \\n{specific_common_words}\")"
   ]
  },
  {
   "cell_type": "code",
   "execution_count": 65,
   "metadata": {},
   "outputs": [
    {
     "name": "stdout",
     "output_type": "stream",
     "text": [
      "Non character words... \n",
      "['!', '?', ',', ':', \"'\", '’', '“', '”', '.', '=', '[', ']', '#', ';', '...', '\"', '{', '}', '``', '-', '/', '|', '@', \"''\", '©', '&', '∈', '²', '']\n"
     ]
    }
   ],
   "source": [
    "# Retrieve list of non-character word for normalization\n",
    "with open(f\"{external_data_path}/non_character_words.txt\", \"r\") as retrieved_file:\n",
    "    non_characerter_words_txt = retrieved_file.read()\n",
    "\n",
    "non_characerter_words = [word for word in non_characerter_words_txt.split(\"\\n\")]\n",
    "print(f\"Non character words... \\n{non_characerter_words}\")"
   ]
  },
  {
   "cell_type": "code",
   "execution_count": 69,
   "metadata": {},
   "outputs": [
    {
     "name": "stderr",
     "output_type": "stream",
     "text": [
      "Cleaning raw text documents:   0%|          | 0/119 [00:00<?, ?it/s]"
     ]
    },
    {
     "name": "stdout",
     "output_type": "stream",
     "text": [
      "alibi\n"
     ]
    },
    {
     "name": "stderr",
     "output_type": "stream",
     "text": [
      "Cleaning raw text documents:   1%|          | 1/119 [00:02<03:56,  2.00s/it]"
     ]
    },
    {
     "name": "stdout",
     "output_type": "stream",
     "text": [
      "altair\n"
     ]
    },
    {
     "name": "stderr",
     "output_type": "stream",
     "text": [
      "Cleaning raw text documents:   2%|▏         | 2/119 [00:04<04:15,  2.18s/it]"
     ]
    },
    {
     "name": "stdout",
     "output_type": "stream",
     "text": [
      "ax-platform\n"
     ]
    },
    {
     "name": "stderr",
     "output_type": "stream",
     "text": [
      "Cleaning raw text documents:   3%|▎         | 3/119 [00:05<03:37,  1.88s/it]"
     ]
    },
    {
     "name": "stdout",
     "output_type": "stream",
     "text": [
      "arviz\n"
     ]
    },
    {
     "name": "stderr",
     "output_type": "stream",
     "text": [
      "Cleaning raw text documents:   3%|▎         | 4/119 [00:07<03:28,  1.81s/it]"
     ]
    },
    {
     "name": "stdout",
     "output_type": "stream",
     "text": [
      "autogluon\n"
     ]
    },
    {
     "name": "stderr",
     "output_type": "stream",
     "text": [
      "Cleaning raw text documents:   4%|▍         | 5/119 [00:08<02:44,  1.44s/it]"
     ]
    },
    {
     "name": "stdout",
     "output_type": "stream",
     "text": [
      "autokeras\n"
     ]
    },
    {
     "name": "stderr",
     "output_type": "stream",
     "text": [
      "Cleaning raw text documents:   5%|▌         | 6/119 [00:09<02:31,  1.34s/it]"
     ]
    },
    {
     "name": "stdout",
     "output_type": "stream",
     "text": [
      "avro\n",
      "beautifulsoup4\n"
     ]
    },
    {
     "name": "stderr",
     "output_type": "stream",
     "text": [
      "Cleaning raw text documents:   7%|▋         | 8/119 [00:10<01:50,  1.00it/s]"
     ]
    },
    {
     "name": "stdout",
     "output_type": "stream",
     "text": [
      "bentoml\n"
     ]
    },
    {
     "name": "stderr",
     "output_type": "stream",
     "text": [
      "Cleaning raw text documents:   8%|▊         | 9/119 [00:13<02:51,  1.56s/it]"
     ]
    },
    {
     "name": "stdout",
     "output_type": "stream",
     "text": [
      "bokeh\n"
     ]
    },
    {
     "name": "stderr",
     "output_type": "stream",
     "text": [
      "Cleaning raw text documents:   8%|▊         | 10/119 [00:18<04:17,  2.36s/it]"
     ]
    },
    {
     "name": "stdout",
     "output_type": "stream",
     "text": [
      "boto3\n"
     ]
    },
    {
     "name": "stderr",
     "output_type": "stream",
     "text": [
      "Cleaning raw text documents:   9%|▉         | 11/119 [00:19<03:35,  2.00s/it]"
     ]
    },
    {
     "name": "stdout",
     "output_type": "stream",
     "text": [
      "catboost\n"
     ]
    },
    {
     "name": "stderr",
     "output_type": "stream",
     "text": [
      "Cleaning raw text documents:  10%|█         | 12/119 [00:20<03:04,  1.73s/it]"
     ]
    },
    {
     "name": "stdout",
     "output_type": "stream",
     "text": [
      "causalml\n"
     ]
    },
    {
     "name": "stderr",
     "output_type": "stream",
     "text": [
      "Cleaning raw text documents:  11%|█         | 13/119 [00:22<03:20,  1.89s/it]"
     ]
    },
    {
     "name": "stdout",
     "output_type": "stream",
     "text": [
      "cloudpickle\n"
     ]
    },
    {
     "name": "stderr",
     "output_type": "stream",
     "text": [
      "Cleaning raw text documents:  12%|█▏        | 14/119 [00:23<02:56,  1.68s/it]"
     ]
    },
    {
     "name": "stdout",
     "output_type": "stream",
     "text": [
      "ConfigSpace\n"
     ]
    },
    {
     "name": "stderr",
     "output_type": "stream",
     "text": [
      "Cleaning raw text documents:  13%|█▎        | 15/119 [00:24<02:09,  1.25s/it]"
     ]
    },
    {
     "name": "stdout",
     "output_type": "stream",
     "text": [
      "cortex\n"
     ]
    },
    {
     "name": "stderr",
     "output_type": "stream",
     "text": [
      "Cleaning raw text documents:  13%|█▎        | 16/119 [00:25<02:21,  1.37s/it]"
     ]
    },
    {
     "name": "stdout",
     "output_type": "stream",
     "text": [
      "cudf\n"
     ]
    },
    {
     "name": "stderr",
     "output_type": "stream",
     "text": [
      "Cleaning raw text documents:  14%|█▍        | 17/119 [00:26<02:11,  1.29s/it]"
     ]
    },
    {
     "name": "stdout",
     "output_type": "stream",
     "text": [
      "cuml\n"
     ]
    },
    {
     "name": "stderr",
     "output_type": "stream",
     "text": [
      "Cleaning raw text documents:  15%|█▌        | 18/119 [00:28<02:18,  1.37s/it]"
     ]
    },
    {
     "name": "stdout",
     "output_type": "stream",
     "text": [
      "cupy\n"
     ]
    },
    {
     "name": "stderr",
     "output_type": "stream",
     "text": [
      "Cleaning raw text documents:  16%|█▌        | 19/119 [00:29<02:04,  1.24s/it]"
     ]
    },
    {
     "name": "stdout",
     "output_type": "stream",
     "text": [
      "Cython\n"
     ]
    },
    {
     "name": "stderr",
     "output_type": "stream",
     "text": [
      "Cleaning raw text documents:  17%|█▋        | 20/119 [00:30<01:46,  1.08s/it]"
     ]
    },
    {
     "name": "stdout",
     "output_type": "stream",
     "text": [
      "dagster\n"
     ]
    },
    {
     "name": "stderr",
     "output_type": "stream",
     "text": [
      "Cleaning raw text documents:  18%|█▊        | 21/119 [00:33<02:53,  1.77s/it]"
     ]
    },
    {
     "name": "stdout",
     "output_type": "stream",
     "text": [
      "dalex\n"
     ]
    },
    {
     "name": "stderr",
     "output_type": "stream",
     "text": [
      "Cleaning raw text documents:  18%|█▊        | 22/119 [00:35<02:44,  1.70s/it]"
     ]
    },
    {
     "name": "stdout",
     "output_type": "stream",
     "text": [
      "dask\n"
     ]
    },
    {
     "name": "stderr",
     "output_type": "stream",
     "text": [
      "Cleaning raw text documents:  19%|█▉        | 23/119 [00:35<02:04,  1.30s/it]"
     ]
    },
    {
     "name": "stdout",
     "output_type": "stream",
     "text": [
      "dgl\n"
     ]
    },
    {
     "name": "stderr",
     "output_type": "stream",
     "text": [
      "Cleaning raw text documents:  20%|██        | 24/119 [00:39<03:12,  2.02s/it]"
     ]
    },
    {
     "name": "stdout",
     "output_type": "stream",
     "text": [
      "dill\n"
     ]
    },
    {
     "name": "stderr",
     "output_type": "stream",
     "text": [
      "Cleaning raw text documents:  21%|██        | 25/119 [00:40<02:40,  1.71s/it]"
     ]
    },
    {
     "name": "stdout",
     "output_type": "stream",
     "text": [
      "distributed\n"
     ]
    },
    {
     "name": "stderr",
     "output_type": "stream",
     "text": [
      "Cleaning raw text documents:  22%|██▏       | 26/119 [00:40<02:00,  1.29s/it]"
     ]
    },
    {
     "name": "stdout",
     "output_type": "stream",
     "text": [
      "dowhy\n"
     ]
    },
    {
     "name": "stderr",
     "output_type": "stream",
     "text": [
      "Cleaning raw text documents:  23%|██▎       | 27/119 [00:44<03:02,  1.99s/it]"
     ]
    },
    {
     "name": "stdout",
     "output_type": "stream",
     "text": [
      "dtale\n"
     ]
    },
    {
     "name": "stderr",
     "output_type": "stream",
     "text": [
      "Cleaning raw text documents:  24%|██▎       | 28/119 [00:55<07:04,  4.67s/it]"
     ]
    },
    {
     "name": "stdout",
     "output_type": "stream",
     "text": [
      "dvc\n"
     ]
    },
    {
     "name": "stderr",
     "output_type": "stream",
     "text": [
      "Cleaning raw text documents:  24%|██▍       | 29/119 [00:58<06:19,  4.22s/it]"
     ]
    },
    {
     "name": "stdout",
     "output_type": "stream",
     "text": [
      "eli5\n"
     ]
    },
    {
     "name": "stderr",
     "output_type": "stream",
     "text": [
      "Cleaning raw text documents:  25%|██▌       | 30/119 [00:58<04:44,  3.20s/it]"
     ]
    },
    {
     "name": "stdout",
     "output_type": "stream",
     "text": [
      "fastai\n"
     ]
    },
    {
     "name": "stderr",
     "output_type": "stream",
     "text": [
      "Cleaning raw text documents:  26%|██▌       | 31/119 [01:01<04:18,  2.94s/it]"
     ]
    },
    {
     "name": "stdout",
     "output_type": "stream",
     "text": [
      "fiber\n"
     ]
    },
    {
     "name": "stderr",
     "output_type": "stream",
     "text": [
      "Cleaning raw text documents:  27%|██▋       | 32/119 [01:02<03:39,  2.53s/it]"
     ]
    },
    {
     "name": "stdout",
     "output_type": "stream",
     "text": [
      "fiscalyear\n"
     ]
    },
    {
     "name": "stderr",
     "output_type": "stream",
     "text": [
      "Cleaning raw text documents:  28%|██▊       | 33/119 [01:04<03:02,  2.12s/it]"
     ]
    },
    {
     "name": "stdout",
     "output_type": "stream",
     "text": [
      "fbprophet\n"
     ]
    },
    {
     "name": "stderr",
     "output_type": "stream",
     "text": [
      "Cleaning raw text documents:  29%|██▊       | 34/119 [01:05<02:38,  1.87s/it]"
     ]
    },
    {
     "name": "stdout",
     "output_type": "stream",
     "text": [
      "Flask\n"
     ]
    },
    {
     "name": "stderr",
     "output_type": "stream",
     "text": [
      "Cleaning raw text documents:  29%|██▉       | 35/119 [01:05<02:04,  1.48s/it]"
     ]
    },
    {
     "name": "stdout",
     "output_type": "stream",
     "text": [
      "gensim\n"
     ]
    },
    {
     "name": "stderr",
     "output_type": "stream",
     "text": [
      "Cleaning raw text documents:  30%|███       | 36/119 [01:08<02:21,  1.71s/it]"
     ]
    },
    {
     "name": "stdout",
     "output_type": "stream",
     "text": [
      "graphviz\n"
     ]
    },
    {
     "name": "stderr",
     "output_type": "stream",
     "text": [
      "Cleaning raw text documents:  31%|███       | 37/119 [01:09<02:16,  1.66s/it]"
     ]
    },
    {
     "name": "stdout",
     "output_type": "stream",
     "text": [
      "gspread-pandas\n"
     ]
    },
    {
     "name": "stderr",
     "output_type": "stream",
     "text": [
      "Cleaning raw text documents:  32%|███▏      | 38/119 [01:11<02:27,  1.82s/it]"
     ]
    },
    {
     "name": "stdout",
     "output_type": "stream",
     "text": [
      "h5py\n"
     ]
    },
    {
     "name": "stderr",
     "output_type": "stream",
     "text": [
      "Cleaning raw text documents:  33%|███▎      | 39/119 [01:12<01:53,  1.42s/it]"
     ]
    },
    {
     "name": "stdout",
     "output_type": "stream",
     "text": [
      "horovod\n"
     ]
    },
    {
     "name": "stderr",
     "output_type": "stream",
     "text": [
      "Cleaning raw text documents:  34%|███▎      | 40/119 [01:16<02:53,  2.20s/it]"
     ]
    },
    {
     "name": "stdout",
     "output_type": "stream",
     "text": [
      "hpbandster\n"
     ]
    },
    {
     "name": "stderr",
     "output_type": "stream",
     "text": [
      "Cleaning raw text documents:  34%|███▍      | 41/119 [01:16<02:06,  1.63s/it]"
     ]
    },
    {
     "name": "stdout",
     "output_type": "stream",
     "text": [
      "interpret\n"
     ]
    },
    {
     "name": "stderr",
     "output_type": "stream",
     "text": [
      "Cleaning raw text documents:  35%|███▌      | 42/119 [01:22<03:52,  3.01s/it]"
     ]
    },
    {
     "name": "stdout",
     "output_type": "stream",
     "text": [
      "jellyfish\n"
     ]
    },
    {
     "name": "stderr",
     "output_type": "stream",
     "text": [
      "Cleaning raw text documents:  36%|███▌      | 43/119 [01:23<02:56,  2.32s/it]"
     ]
    },
    {
     "name": "stdout",
     "output_type": "stream",
     "text": [
      "jax\n"
     ]
    },
    {
     "name": "stderr",
     "output_type": "stream",
     "text": [
      "Cleaning raw text documents:  37%|███▋      | 44/119 [01:27<03:38,  2.91s/it]"
     ]
    },
    {
     "name": "stdout",
     "output_type": "stream",
     "text": [
      "jupyter\n"
     ]
    },
    {
     "name": "stderr",
     "output_type": "stream",
     "text": [
      "Cleaning raw text documents:  38%|███▊      | 45/119 [01:28<02:45,  2.23s/it]"
     ]
    },
    {
     "name": "stdout",
     "output_type": "stream",
     "text": [
      "jupyter-datatables\n"
     ]
    },
    {
     "name": "stderr",
     "output_type": "stream",
     "text": [
      "Cleaning raw text documents:  39%|███▊      | 46/119 [01:29<02:22,  1.95s/it]"
     ]
    },
    {
     "name": "stdout",
     "output_type": "stream",
     "text": [
      "jupyter-nbrequirements\n"
     ]
    },
    {
     "name": "stderr",
     "output_type": "stream",
     "text": [
      "Cleaning raw text documents:  39%|███▉      | 47/119 [01:30<01:59,  1.66s/it]"
     ]
    },
    {
     "name": "stdout",
     "output_type": "stream",
     "text": [
      "jupyterlab\n"
     ]
    },
    {
     "name": "stderr",
     "output_type": "stream",
     "text": [
      "Cleaning raw text documents:  40%|████      | 48/119 [01:32<01:56,  1.64s/it]"
     ]
    },
    {
     "name": "stdout",
     "output_type": "stream",
     "text": [
      "jupyterlab-templates\n"
     ]
    },
    {
     "name": "stderr",
     "output_type": "stream",
     "text": [
      "Cleaning raw text documents:  41%|████      | 49/119 [01:32<01:30,  1.29s/it]"
     ]
    },
    {
     "name": "stdout",
     "output_type": "stream",
     "text": [
      "karateclub\n"
     ]
    },
    {
     "name": "stderr",
     "output_type": "stream",
     "text": [
      "Cleaning raw text documents:  42%|████▏     | 50/119 [01:37<02:28,  2.15s/it]"
     ]
    },
    {
     "name": "stdout",
     "output_type": "stream",
     "text": [
      "Keras\n"
     ]
    },
    {
     "name": "stderr",
     "output_type": "stream",
     "text": [
      "Cleaning raw text documents:  43%|████▎     | 51/119 [01:39<02:23,  2.11s/it]"
     ]
    },
    {
     "name": "stdout",
     "output_type": "stream",
     "text": [
      "librosa\n"
     ]
    },
    {
     "name": "stderr",
     "output_type": "stream",
     "text": [
      "Cleaning raw text documents:  44%|████▎     | 52/119 [01:40<01:57,  1.76s/it]"
     ]
    },
    {
     "name": "stdout",
     "output_type": "stream",
     "text": [
      "lightgbm\n"
     ]
    },
    {
     "name": "stderr",
     "output_type": "stream",
     "text": [
      "Cleaning raw text documents:  45%|████▍     | 53/119 [01:41<01:54,  1.74s/it]"
     ]
    },
    {
     "name": "stdout",
     "output_type": "stream",
     "text": [
      "lime\n"
     ]
    },
    {
     "name": "stderr",
     "output_type": "stream",
     "text": [
      "Cleaning raw text documents:  45%|████▌     | 54/119 [01:42<01:38,  1.51s/it]"
     ]
    },
    {
     "name": "stdout",
     "output_type": "stream",
     "text": [
      "ludwig\n"
     ]
    },
    {
     "name": "stderr",
     "output_type": "stream",
     "text": [
      "Cleaning raw text documents:  46%|████▌     | 55/119 [01:44<01:45,  1.65s/it]"
     ]
    },
    {
     "name": "stdout",
     "output_type": "stream",
     "text": [
      "Markdown\n"
     ]
    },
    {
     "name": "stderr",
     "output_type": "stream",
     "text": [
      "Cleaning raw text documents:  47%|████▋     | 56/119 [01:45<01:21,  1.30s/it]"
     ]
    },
    {
     "name": "stdout",
     "output_type": "stream",
     "text": [
      "matplotlib\n"
     ]
    },
    {
     "name": "stderr",
     "output_type": "stream",
     "text": [
      "Cleaning raw text documents:  48%|████▊     | 57/119 [01:46<01:15,  1.21s/it]"
     ]
    },
    {
     "name": "stdout",
     "output_type": "stream",
     "text": [
      "markovify\n"
     ]
    },
    {
     "name": "stderr",
     "output_type": "stream",
     "text": [
      "Cleaning raw text documents:  49%|████▊     | 58/119 [01:50<02:06,  2.08s/it]"
     ]
    },
    {
     "name": "stdout",
     "output_type": "stream",
     "text": [
      "mlflow\n"
     ]
    },
    {
     "name": "stderr",
     "output_type": "stream",
     "text": [
      "Cleaning raw text documents:  50%|████▉     | 59/119 [01:51<01:48,  1.81s/it]"
     ]
    },
    {
     "name": "stdout",
     "output_type": "stream",
     "text": [
      "mxnet\n"
     ]
    },
    {
     "name": "stderr",
     "output_type": "stream",
     "text": [
      "Cleaning raw text documents:  50%|█████     | 60/119 [01:54<02:00,  2.05s/it]"
     ]
    },
    {
     "name": "stdout",
     "output_type": "stream",
     "text": [
      "netron\n"
     ]
    },
    {
     "name": "stderr",
     "output_type": "stream",
     "text": [
      "Cleaning raw text documents:  51%|█████▏    | 61/119 [01:55<01:49,  1.88s/it]"
     ]
    },
    {
     "name": "stdout",
     "output_type": "stream",
     "text": [
      "networkx\n"
     ]
    },
    {
     "name": "stderr",
     "output_type": "stream",
     "text": [
      "Cleaning raw text documents:  52%|█████▏    | 62/119 [01:56<01:26,  1.53s/it]"
     ]
    },
    {
     "name": "stdout",
     "output_type": "stream",
     "text": [
      "nltk\n"
     ]
    },
    {
     "name": "stderr",
     "output_type": "stream",
     "text": [
      "Cleaning raw text documents:  53%|█████▎    | 63/119 [01:56<01:06,  1.18s/it]"
     ]
    },
    {
     "name": "stdout",
     "output_type": "stream",
     "text": [
      "nni\n"
     ]
    },
    {
     "name": "stderr",
     "output_type": "stream",
     "text": [
      "Cleaning raw text documents:  54%|█████▍    | 64/119 [02:02<02:28,  2.70s/it]"
     ]
    },
    {
     "name": "stdout",
     "output_type": "stream",
     "text": [
      "notify-run\n"
     ]
    },
    {
     "name": "stderr",
     "output_type": "stream",
     "text": [
      "Cleaning raw text documents:  55%|█████▍    | 65/119 [02:03<01:46,  1.97s/it]"
     ]
    },
    {
     "name": "stdout",
     "output_type": "stream",
     "text": [
      "numba\n"
     ]
    },
    {
     "name": "stderr",
     "output_type": "stream",
     "text": [
      "Cleaning raw text documents:  55%|█████▌    | 66/119 [02:03<01:21,  1.54s/it]"
     ]
    },
    {
     "name": "stdout",
     "output_type": "stream",
     "text": [
      "numexpr\n"
     ]
    },
    {
     "name": "stderr",
     "output_type": "stream",
     "text": [
      "Cleaning raw text documents:  56%|█████▋    | 67/119 [02:04<01:15,  1.45s/it]"
     ]
    },
    {
     "name": "stdout",
     "output_type": "stream",
     "text": [
      "numpy\n"
     ]
    },
    {
     "name": "stderr",
     "output_type": "stream",
     "text": [
      "Cleaning raw text documents:  57%|█████▋    | 68/119 [02:05<01:00,  1.19s/it]"
     ]
    },
    {
     "name": "stdout",
     "output_type": "stream",
     "text": [
      "onnx\n"
     ]
    },
    {
     "name": "stderr",
     "output_type": "stream",
     "text": [
      "Cleaning raw text documents:  58%|█████▊    | 69/119 [02:07<01:05,  1.32s/it]"
     ]
    },
    {
     "name": "stdout",
     "output_type": "stream",
     "text": [
      "opencv-python\n"
     ]
    },
    {
     "name": "stderr",
     "output_type": "stream",
     "text": [
      "Cleaning raw text documents:  59%|█████▉    | 70/119 [02:09<01:15,  1.54s/it]"
     ]
    },
    {
     "name": "stdout",
     "output_type": "stream",
     "text": [
      "paddlepaddle\n"
     ]
    },
    {
     "name": "stderr",
     "output_type": "stream",
     "text": [
      "Cleaning raw text documents:  60%|█████▉    | 71/119 [02:10<01:08,  1.43s/it]"
     ]
    },
    {
     "name": "stdout",
     "output_type": "stream",
     "text": [
      "pandas\n"
     ]
    },
    {
     "name": "stderr",
     "output_type": "stream",
     "text": [
      "Cleaning raw text documents:  61%|██████    | 72/119 [02:12<01:11,  1.51s/it]"
     ]
    },
    {
     "name": "stdout",
     "output_type": "stream",
     "text": [
      "pandas-profiling\n"
     ]
    },
    {
     "name": "stderr",
     "output_type": "stream",
     "text": [
      "Cleaning raw text documents:  61%|██████▏   | 73/119 [02:15<01:34,  2.06s/it]"
     ]
    },
    {
     "name": "stdout",
     "output_type": "stream",
     "text": [
      "papermill\n"
     ]
    },
    {
     "name": "stderr",
     "output_type": "stream",
     "text": [
      "Cleaning raw text documents:  62%|██████▏   | 74/119 [02:17<01:31,  2.04s/it]"
     ]
    },
    {
     "name": "stdout",
     "output_type": "stream",
     "text": [
      "patsy\n"
     ]
    },
    {
     "name": "stderr",
     "output_type": "stream",
     "text": [
      "Cleaning raw text documents:  63%|██████▎   | 75/119 [02:17<01:07,  1.53s/it]"
     ]
    },
    {
     "name": "stdout",
     "output_type": "stream",
     "text": [
      "petastorm\n"
     ]
    },
    {
     "name": "stderr",
     "output_type": "stream",
     "text": [
      "Cleaning raw text documents:  64%|██████▍   | 76/119 [02:21<01:29,  2.08s/it]"
     ]
    },
    {
     "name": "stdout",
     "output_type": "stream",
     "text": [
      "pillow\n"
     ]
    },
    {
     "name": "stderr",
     "output_type": "stream",
     "text": [
      "Cleaning raw text documents:  65%|██████▍   | 77/119 [02:22<01:14,  1.77s/it]"
     ]
    },
    {
     "name": "stdout",
     "output_type": "stream",
     "text": [
      "plotly\n"
     ]
    },
    {
     "name": "stderr",
     "output_type": "stream",
     "text": [
      "Cleaning raw text documents:  66%|██████▌   | 78/119 [02:23<01:13,  1.79s/it]"
     ]
    },
    {
     "name": "stdout",
     "output_type": "stream",
     "text": [
      "pomegranate\n"
     ]
    },
    {
     "name": "stderr",
     "output_type": "stream",
     "text": [
      "Cleaning raw text documents:  66%|██████▋   | 79/119 [02:24<01:01,  1.55s/it]"
     ]
    },
    {
     "name": "stdout",
     "output_type": "stream",
     "text": [
      "protobuf\n"
     ]
    },
    {
     "name": "stderr",
     "output_type": "stream",
     "text": [
      "Cleaning raw text documents:  67%|██████▋   | 80/119 [02:26<01:05,  1.67s/it]"
     ]
    },
    {
     "name": "stdout",
     "output_type": "stream",
     "text": [
      "publish\n"
     ]
    },
    {
     "name": "stderr",
     "output_type": "stream",
     "text": [
      "Cleaning raw text documents:  68%|██████▊   | 81/119 [02:27<00:51,  1.35s/it]"
     ]
    },
    {
     "name": "stdout",
     "output_type": "stream",
     "text": [
      "pyarrow\n"
     ]
    },
    {
     "name": "stderr",
     "output_type": "stream",
     "text": [
      "Cleaning raw text documents:  69%|██████▉   | 82/119 [02:28<00:44,  1.20s/it]"
     ]
    },
    {
     "name": "stdout",
     "output_type": "stream",
     "text": [
      "pydot\n"
     ]
    },
    {
     "name": "stderr",
     "output_type": "stream",
     "text": [
      "Cleaning raw text documents:  70%|██████▉   | 83/119 [02:28<00:34,  1.04it/s]"
     ]
    },
    {
     "name": "stdout",
     "output_type": "stream",
     "text": [
      "pyforest\n"
     ]
    },
    {
     "name": "stderr",
     "output_type": "stream",
     "text": [
      "Cleaning raw text documents:  71%|███████   | 84/119 [02:30<00:39,  1.13s/it]"
     ]
    },
    {
     "name": "stdout",
     "output_type": "stream",
     "text": [
      "pymc3\n"
     ]
    },
    {
     "name": "stderr",
     "output_type": "stream",
     "text": [
      "Cleaning raw text documents:  71%|███████▏  | 85/119 [02:32<00:45,  1.34s/it]"
     ]
    },
    {
     "name": "stdout",
     "output_type": "stream",
     "text": [
      "pyro\n"
     ]
    },
    {
     "name": "stderr",
     "output_type": "stream",
     "text": [
      "Cleaning raw text documents:  72%|███████▏  | 86/119 [02:33<00:41,  1.27s/it]"
     ]
    },
    {
     "name": "stdout",
     "output_type": "stream",
     "text": [
      "pyspark\n"
     ]
    },
    {
     "name": "stderr",
     "output_type": "stream",
     "text": [
      "Cleaning raw text documents:  73%|███████▎  | 87/119 [02:34<00:37,  1.16s/it]"
     ]
    },
    {
     "name": "stdout",
     "output_type": "stream",
     "text": [
      "qgrid\n"
     ]
    },
    {
     "name": "stderr",
     "output_type": "stream",
     "text": [
      "Cleaning raw text documents:  74%|███████▍  | 88/119 [02:37<00:57,  1.84s/it]"
     ]
    },
    {
     "name": "stdout",
     "output_type": "stream",
     "text": [
      "rapidfuzz\n"
     ]
    },
    {
     "name": "stderr",
     "output_type": "stream",
     "text": [
      "Cleaning raw text documents:  75%|███████▍  | 89/119 [02:38<00:48,  1.63s/it]"
     ]
    },
    {
     "name": "stdout",
     "output_type": "stream",
     "text": [
      "ray\n"
     ]
    },
    {
     "name": "stderr",
     "output_type": "stream",
     "text": [
      "Cleaning raw text documents:  76%|███████▌  | 90/119 [02:40<00:50,  1.75s/it]"
     ]
    },
    {
     "name": "stdout",
     "output_type": "stream",
     "text": [
      "requests\n"
     ]
    },
    {
     "name": "stderr",
     "output_type": "stream",
     "text": [
      "Cleaning raw text documents:  77%|███████▋  | 92/119 [02:42<00:34,  1.28s/it]"
     ]
    },
    {
     "name": "stdout",
     "output_type": "stream",
     "text": [
      "s3fs\n",
      "scikit-learn\n"
     ]
    },
    {
     "name": "stderr",
     "output_type": "stream",
     "text": [
      "Cleaning raw text documents:  78%|███████▊  | 93/119 [02:43<00:33,  1.31s/it]"
     ]
    },
    {
     "name": "stdout",
     "output_type": "stream",
     "text": [
      "scipy\n"
     ]
    },
    {
     "name": "stderr",
     "output_type": "stream",
     "text": [
      "Cleaning raw text documents:  79%|███████▉  | 94/119 [02:44<00:27,  1.09s/it]"
     ]
    },
    {
     "name": "stdout",
     "output_type": "stream",
     "text": [
      "scrapy\n"
     ]
    },
    {
     "name": "stderr",
     "output_type": "stream",
     "text": [
      "Cleaning raw text documents:  80%|███████▉  | 95/119 [02:45<00:22,  1.09it/s]"
     ]
    },
    {
     "name": "stdout",
     "output_type": "stream",
     "text": [
      "seaborn\n"
     ]
    },
    {
     "name": "stderr",
     "output_type": "stream",
     "text": [
      "Cleaning raw text documents:  81%|████████  | 96/119 [02:46<00:21,  1.06it/s]"
     ]
    },
    {
     "name": "stdout",
     "output_type": "stream",
     "text": [
      "shap\n"
     ]
    },
    {
     "name": "stderr",
     "output_type": "stream",
     "text": [
      "Cleaning raw text documents:  82%|████████▏ | 97/119 [02:50<00:42,  1.94s/it]"
     ]
    },
    {
     "name": "stdout",
     "output_type": "stream",
     "text": [
      "skorch\n"
     ]
    },
    {
     "name": "stderr",
     "output_type": "stream",
     "text": [
      "Cleaning raw text documents:  82%|████████▏ | 98/119 [02:52<00:40,  1.93s/it]"
     ]
    },
    {
     "name": "stdout",
     "output_type": "stream",
     "text": [
      "spacy\n"
     ]
    },
    {
     "name": "stderr",
     "output_type": "stream",
     "text": [
      "Cleaning raw text documents:  83%|████████▎ | 99/119 [02:55<00:47,  2.37s/it]"
     ]
    },
    {
     "name": "stdout",
     "output_type": "stream",
     "text": [
      "sqlalchemy\n"
     ]
    },
    {
     "name": "stderr",
     "output_type": "stream",
     "text": [
      "Cleaning raw text documents:  84%|████████▍ | 100/119 [02:56<00:36,  1.95s/it]"
     ]
    },
    {
     "name": "stdout",
     "output_type": "stream",
     "text": [
      "statsmodels\n"
     ]
    },
    {
     "name": "stderr",
     "output_type": "stream",
     "text": [
      "Cleaning raw text documents:  85%|████████▍ | 101/119 [02:57<00:30,  1.69s/it]"
     ]
    },
    {
     "name": "stdout",
     "output_type": "stream",
     "text": [
      "streamz\n"
     ]
    },
    {
     "name": "stderr",
     "output_type": "stream",
     "text": [
      "Cleaning raw text documents:  86%|████████▌ | 102/119 [02:57<00:21,  1.27s/it]"
     ]
    },
    {
     "name": "stdout",
     "output_type": "stream",
     "text": [
      "sympy\n"
     ]
    },
    {
     "name": "stderr",
     "output_type": "stream",
     "text": [
      "Cleaning raw text documents:  87%|████████▋ | 103/119 [03:00<00:25,  1.57s/it]"
     ]
    },
    {
     "name": "stdout",
     "output_type": "stream",
     "text": [
      "tensorflow\n"
     ]
    },
    {
     "name": "stderr",
     "output_type": "stream",
     "text": [
      "Cleaning raw text documents:  87%|████████▋ | 104/119 [03:03<00:29,  1.96s/it]"
     ]
    },
    {
     "name": "stdout",
     "output_type": "stream",
     "text": [
      "textblob\n"
     ]
    },
    {
     "name": "stderr",
     "output_type": "stream",
     "text": [
      "Cleaning raw text documents:  88%|████████▊ | 105/119 [03:03<00:22,  1.61s/it]"
     ]
    },
    {
     "name": "stdout",
     "output_type": "stream",
     "text": [
      "tokenizers\n"
     ]
    },
    {
     "name": "stderr",
     "output_type": "stream",
     "text": [
      "Cleaning raw text documents:  89%|████████▉ | 106/119 [03:05<00:19,  1.46s/it]"
     ]
    },
    {
     "name": "stdout",
     "output_type": "stream",
     "text": [
      "transformers\n"
     ]
    },
    {
     "name": "stderr",
     "output_type": "stream",
     "text": [
      "Cleaning raw text documents:  90%|████████▉ | 107/119 [03:14<00:45,  3.79s/it]"
     ]
    },
    {
     "name": "stdout",
     "output_type": "stream",
     "text": [
      "Theano\n"
     ]
    },
    {
     "name": "stderr",
     "output_type": "stream",
     "text": [
      "Cleaning raw text documents:  91%|█████████ | 108/119 [03:14<00:30,  2.79s/it]"
     ]
    },
    {
     "name": "stdout",
     "output_type": "stream",
     "text": [
      "tdda\n"
     ]
    },
    {
     "name": "stderr",
     "output_type": "stream",
     "text": [
      "Cleaning raw text documents:  92%|█████████▏| 109/119 [03:15<00:21,  2.19s/it]"
     ]
    },
    {
     "name": "stdout",
     "output_type": "stream",
     "text": [
      "torch\n"
     ]
    },
    {
     "name": "stderr",
     "output_type": "stream",
     "text": [
      "Cleaning raw text documents:  92%|█████████▏| 110/119 [03:19<00:24,  2.72s/it]"
     ]
    },
    {
     "name": "stdout",
     "output_type": "stream",
     "text": [
      "torch-geometric\n"
     ]
    },
    {
     "name": "stderr",
     "output_type": "stream",
     "text": [
      "Cleaning raw text documents:  93%|█████████▎| 111/119 [03:25<00:29,  3.67s/it]"
     ]
    },
    {
     "name": "stdout",
     "output_type": "stream",
     "text": [
      "torchelastic\n"
     ]
    },
    {
     "name": "stderr",
     "output_type": "stream",
     "text": [
      "Cleaning raw text documents:  94%|█████████▍| 112/119 [03:25<00:19,  2.75s/it]"
     ]
    },
    {
     "name": "stdout",
     "output_type": "stream",
     "text": [
      "torchserve\n"
     ]
    },
    {
     "name": "stderr",
     "output_type": "stream",
     "text": [
      "Cleaning raw text documents:  95%|█████████▍| 113/119 [03:28<00:15,  2.58s/it]"
     ]
    },
    {
     "name": "stdout",
     "output_type": "stream",
     "text": [
      "vega\n"
     ]
    },
    {
     "name": "stderr",
     "output_type": "stream",
     "text": [
      "Cleaning raw text documents:  96%|█████████▌| 114/119 [03:28<00:10,  2.02s/it]"
     ]
    },
    {
     "name": "stdout",
     "output_type": "stream",
     "text": [
      "vincent\n"
     ]
    },
    {
     "name": "stderr",
     "output_type": "stream",
     "text": [
      "Cleaning raw text documents:  97%|█████████▋| 115/119 [03:31<00:08,  2.22s/it]"
     ]
    },
    {
     "name": "stdout",
     "output_type": "stream",
     "text": [
      "voila\n"
     ]
    },
    {
     "name": "stderr",
     "output_type": "stream",
     "text": [
      "Cleaning raw text documents:  97%|█████████▋| 116/119 [03:32<00:05,  1.83s/it]"
     ]
    },
    {
     "name": "stdout",
     "output_type": "stream",
     "text": [
      "word2vec\n"
     ]
    },
    {
     "name": "stderr",
     "output_type": "stream",
     "text": [
      "Cleaning raw text documents:  98%|█████████▊| 117/119 [03:32<00:02,  1.38s/it]"
     ]
    },
    {
     "name": "stdout",
     "output_type": "stream",
     "text": [
      "xgboost\n"
     ]
    },
    {
     "name": "stderr",
     "output_type": "stream",
     "text": [
      "Cleaning raw text documents:  99%|█████████▉| 118/119 [03:34<00:01,  1.37s/it]"
     ]
    },
    {
     "name": "stdout",
     "output_type": "stream",
     "text": [
      "xlrd\n"
     ]
    },
    {
     "name": "stderr",
     "output_type": "stream",
     "text": [
      "Cleaning raw text documents: 100%|██████████| 119/119 [03:35<00:00,  1.81s/it]\n",
      "/opt/app-root/lib/python3.6/site-packages/numpy/core/_asarray.py:83: VisibleDeprecationWarning: Creating an ndarray from ragged nested sequences (which is a list-or-tuple of lists-or-tuples-or ndarrays with different lengths or shapes) is deprecated. If you meant to do this, you must specify 'dtype=object' when creating the ndarray\n",
      "  return array(a, dtype, copy=False, order=order)\n"
     ]
    }
   ],
   "source": [
    "sentences = {}\n",
    "tokens = {}\n",
    "\n",
    "for package_name, package_data in tqdm(raw_files.items(), desc=\"Cleaning raw text documents\"):\n",
    "    print(package_name)\n",
    "    doc = _NLP_SPACY(package_data['raw_text'])\n",
    "    sentences[package_name] = []\n",
    "    tokens[package_name] = []\n",
    "    n = 1\n",
    "    for sent in doc.sents:\n",
    "        doc_sent = _NLP_SPACY(str(sent))\n",
    "        sentences[package_name].append(doc_sent)\n",
    "        \n",
    "        clean_tokens = [(token.text, token.pos_, token.lemma_, token.is_stop) for token in doc_sent]\n",
    "        \n",
    "\n",
    "        ALLOWED_POS = [\"VERB\", \"AUX\"]\n",
    "        pos = [p[1] for p in clean_tokens]\n",
    "\n",
    "        if not any(v in pos for v in ALLOWED_POS):\n",
    "            pass\n",
    "        else:\n",
    "            # Remove common words\n",
    "            clean_tokens = [token for token in clean_tokens if str(token[0]).lower() not in common_words]\n",
    "        \n",
    "        # Use lemmatization and remove stop words\n",
    "        clean_tokens = [str(token[2]) for token in clean_tokens if not token[3]]\n",
    "        clean_tokens = [\n",
    "            token.strip(\"'\").rstrip(\"-\").lstrip(\"-\").lstrip(\".\").lstrip(\"∗\").lstrip(\"–\").rstrip(\".\")\n",
    "            for token in clean_tokens\n",
    "        ]\n",
    "\n",
    "        # Remove common words\n",
    "        clean_tokens = [token for token in clean_tokens if token not in common_words]\n",
    "\n",
    "        # Remove stopwords, punctuations, symbols\n",
    "        clean_tokens = [\n",
    "            token for token in clean_tokens if len(token) >= 1 and token.lower() not in non_characerter_words\n",
    "        ]\n",
    "\n",
    "        # Lower the tokens and filter specific common words\n",
    "        clean_tokens = [token.lower() for token in clean_tokens if token.lower() not in specific_common_words]\n",
    "\n",
    "        # Check vocabulary using US vocabulary\n",
    "        clean_tokens = [token for token in clean_tokens if (US_VOCABULARY.check(token)) and (len(token) > 1)]\n",
    "\n",
    "        # Remove numbers, keep only alphabetic words and remove empty spaces\n",
    "        clean_tokens = [token for token in clean_tokens if not token[0].isdigit()]\n",
    "        clean_tokens = [token for token in clean_tokens if token.isalpha()]\n",
    "        clean_tokens = [token for token in clean_tokens if \" \" not in token]\n",
    "\n",
    "        tokens[package_name] += clean_tokens\n",
    "        \n",
    "        \n",
    "data_science_readmes_pd['sentences'] = sentences.values()\n",
    "data_science_readmes_pd['tokens'] = tokens.values()"
   ]
  },
  {
   "cell_type": "code",
   "execution_count": 70,
   "metadata": {},
   "outputs": [
    {
     "data": {
      "text/html": [
       "<div>\n",
       "<style scoped>\n",
       "    .dataframe tbody tr th:only-of-type {\n",
       "        vertical-align: middle;\n",
       "    }\n",
       "\n",
       "    .dataframe tbody tr th {\n",
       "        vertical-align: top;\n",
       "    }\n",
       "\n",
       "    .dataframe thead th {\n",
       "        text-align: right;\n",
       "    }\n",
       "</style>\n",
       "<table border=\"1\" class=\"dataframe\">\n",
       "  <thead>\n",
       "    <tr style=\"text-align: right;\">\n",
       "      <th></th>\n",
       "      <th>file_name</th>\n",
       "      <th>raw_text</th>\n",
       "      <th>sentences</th>\n",
       "      <th>tokens</th>\n",
       "    </tr>\n",
       "  </thead>\n",
       "  <tbody>\n",
       "    <tr>\n",
       "      <th>alibi</th>\n",
       "      <td>SeldonIO/alibi/README.md</td>\n",
       "      <td>&lt;p align=\"center\"&gt;\\n  &lt;img src=\"doc/source/_st...</td>\n",
       "      <td>[(&lt;, p, align=\"center, \", &gt;, \\n  , &lt;, img, src...</td>\n",
       "      <td>[logo, build, alibi, alibi, alibi, branch, mas...</td>\n",
       "    </tr>\n",
       "    <tr>\n",
       "      <th>altair</th>\n",
       "      <td>altair-viz/altair/README.md</td>\n",
       "      <td># Altair &lt;a href=\"https://altair-viz.github.io...</td>\n",
       "      <td>[(#, Altair, &lt;, a, href=\"https://altair, -, vi...</td>\n",
       "      <td>[logo, build, viz, viz, viz, build, viz, style...</td>\n",
       "    </tr>\n",
       "    <tr>\n",
       "      <th>ax-platform</th>\n",
       "      <td>facebook/Ax/README.md</td>\n",
       "      <td>&lt;img width=\"300\" src=\"website/static/img/ax_lo...</td>\n",
       "      <td>[(&lt;, img, width=\"300, \", src=\"website, /, stat...</td>\n",
       "      <td>[static, logo, build, ax, ax, build, ax, ax, b...</td>\n",
       "    </tr>\n",
       "    <tr>\n",
       "      <th>arviz</th>\n",
       "      <td>arviz-devs/arviz/README.md</td>\n",
       "      <td>&lt;img src=\"https://arviz-devs.github.io/arviz/_...</td>\n",
       "      <td>[(&lt;, img, src=\"https://arviz, -, devs.github.i...</td>\n",
       "      <td>[azure, build, build, master, branch, master, ...</td>\n",
       "    </tr>\n",
       "    <tr>\n",
       "      <th>autogluon</th>\n",
       "      <td>awslabs/autogluon/README.md</td>\n",
       "      <td>\\n\\n&lt;div align=\"left\"&gt;\\n  &lt;img src=\"https://us...</td>\n",
       "      <td>[(\\n\\n, &lt;, div, align=\"left, \"), (&gt;, \\n  , &lt;, ...</td>\n",
       "      <td>[div, toolkit, deep, learning, build, view, jo...</td>\n",
       "    </tr>\n",
       "    <tr>\n",
       "      <th>...</th>\n",
       "      <td>...</td>\n",
       "      <td>...</td>\n",
       "      <td>...</td>\n",
       "      <td>...</td>\n",
       "    </tr>\n",
       "    <tr>\n",
       "      <th>vincent</th>\n",
       "      <td>wrobstory/vincent/README.md</td>\n",
       "      <td># Status\\n\\n#### 2016-06-18 Update\\n\\nIf you a...</td>\n",
       "      <td>[(#, Status, \\n\\n, #, #, #, #, 2016, -, 06, -,...</td>\n",
       "      <td>[update, interested, direct, support, fully, f...</td>\n",
       "    </tr>\n",
       "    <tr>\n",
       "      <th>voila</th>\n",
       "      <td>voila-dashboards/voila/README.md</td>\n",
       "      <td># ![voila](docs/source/voila-logo.svg)\\n\\n[![D...</td>\n",
       "      <td>[(#, !), ([, voila](docs, /, source, /, voila,...</td>\n",
       "      <td>[voila, voila, dashboard, voila, join, badge, ...</td>\n",
       "    </tr>\n",
       "    <tr>\n",
       "      <th>word2vec</th>\n",
       "      <td>danielfrg/word2vec/README.md</td>\n",
       "      <td>word2vec\\n========\\n\\n[![travis-ci](https://ap...</td>\n",
       "      <td>[(word2vec, \\n), (=, =, =, =, =, =, =, =, \\n\\n...</td>\n",
       "      <td>[training, original, functionality, pure, inst...</td>\n",
       "    </tr>\n",
       "    <tr>\n",
       "      <th>xgboost</th>\n",
       "      <td>dmlc/xgboost/README.md</td>\n",
       "      <td>&lt;img src=https://raw.githubusercontent.com/dml...</td>\n",
       "      <td>[(&lt;, img, src, =, https://raw.githubuserconten...</td>\n",
       "      <td>[master, logo, extreme, gradient, boost, build...</td>\n",
       "    </tr>\n",
       "    <tr>\n",
       "      <th>xlrd</th>\n",
       "      <td>python-excel/xlrd/README.md</td>\n",
       "      <td>[![Build Status](https://travis-ci.org/python-...</td>\n",
       "      <td>[([, !), ([), (Build, Status](https://travis, ...</td>\n",
       "      <td>[build, excel, excel, coverage, excel, master,...</td>\n",
       "    </tr>\n",
       "  </tbody>\n",
       "</table>\n",
       "<p>119 rows × 4 columns</p>\n",
       "</div>"
      ],
      "text/plain": [
       "                                    file_name  \\\n",
       "alibi                SeldonIO/alibi/README.md   \n",
       "altair            altair-viz/altair/README.md   \n",
       "ax-platform             facebook/Ax/README.md   \n",
       "arviz              arviz-devs/arviz/README.md   \n",
       "autogluon         awslabs/autogluon/README.md   \n",
       "...                                       ...   \n",
       "vincent           wrobstory/vincent/README.md   \n",
       "voila        voila-dashboards/voila/README.md   \n",
       "word2vec         danielfrg/word2vec/README.md   \n",
       "xgboost                dmlc/xgboost/README.md   \n",
       "xlrd              python-excel/xlrd/README.md   \n",
       "\n",
       "                                                      raw_text  \\\n",
       "alibi        <p align=\"center\">\\n  <img src=\"doc/source/_st...   \n",
       "altair       # Altair <a href=\"https://altair-viz.github.io...   \n",
       "ax-platform  <img width=\"300\" src=\"website/static/img/ax_lo...   \n",
       "arviz        <img src=\"https://arviz-devs.github.io/arviz/_...   \n",
       "autogluon    \\n\\n<div align=\"left\">\\n  <img src=\"https://us...   \n",
       "...                                                        ...   \n",
       "vincent      # Status\\n\\n#### 2016-06-18 Update\\n\\nIf you a...   \n",
       "voila        # ![voila](docs/source/voila-logo.svg)\\n\\n[![D...   \n",
       "word2vec     word2vec\\n========\\n\\n[![travis-ci](https://ap...   \n",
       "xgboost      <img src=https://raw.githubusercontent.com/dml...   \n",
       "xlrd         [![Build Status](https://travis-ci.org/python-...   \n",
       "\n",
       "                                                     sentences  \\\n",
       "alibi        [(<, p, align=\"center, \", >, \\n  , <, img, src...   \n",
       "altair       [(#, Altair, <, a, href=\"https://altair, -, vi...   \n",
       "ax-platform  [(<, img, width=\"300, \", src=\"website, /, stat...   \n",
       "arviz        [(<, img, src=\"https://arviz, -, devs.github.i...   \n",
       "autogluon    [(\\n\\n, <, div, align=\"left, \"), (>, \\n  , <, ...   \n",
       "...                                                        ...   \n",
       "vincent      [(#, Status, \\n\\n, #, #, #, #, 2016, -, 06, -,...   \n",
       "voila        [(#, !), ([, voila](docs, /, source, /, voila,...   \n",
       "word2vec     [(word2vec, \\n), (=, =, =, =, =, =, =, =, \\n\\n...   \n",
       "xgboost      [(<, img, src, =, https://raw.githubuserconten...   \n",
       "xlrd         [([, !), ([), (Build, Status](https://travis, ...   \n",
       "\n",
       "                                                        tokens  \n",
       "alibi        [logo, build, alibi, alibi, alibi, branch, mas...  \n",
       "altair       [logo, build, viz, viz, viz, build, viz, style...  \n",
       "ax-platform  [static, logo, build, ax, ax, build, ax, ax, b...  \n",
       "arviz        [azure, build, build, master, branch, master, ...  \n",
       "autogluon    [div, toolkit, deep, learning, build, view, jo...  \n",
       "...                                                        ...  \n",
       "vincent      [update, interested, direct, support, fully, f...  \n",
       "voila        [voila, voila, dashboard, voila, join, badge, ...  \n",
       "word2vec     [training, original, functionality, pure, inst...  \n",
       "xgboost      [master, logo, extreme, gradient, boost, build...  \n",
       "xlrd         [build, excel, excel, coverage, excel, master,...  \n",
       "\n",
       "[119 rows x 4 columns]"
      ]
     },
     "execution_count": 70,
     "metadata": {},
     "output_type": "execute_result"
    }
   ],
   "source": [
    "data_science_readmes_pd"
   ]
  },
  {
   "cell_type": "code",
   "execution_count": 73,
   "metadata": {},
   "outputs": [
    {
     "name": "stderr",
     "output_type": "stream",
     "text": [
      "/opt/app-root/lib/python3.6/site-packages/numpy/core/_asarray.py:83: VisibleDeprecationWarning: Creating an ndarray from ragged nested sequences (which is a list-or-tuple of lists-or-tuples-or ndarrays with different lengths or shapes) is deprecated. If you meant to do this, you must specify 'dtype=object' when creating the ndarray\n",
      "  return array(a, dtype, copy=False, order=order)\n"
     ]
    }
   ],
   "source": [
    "vocabulary_package = {}\n",
    "vocabulary_count = {}\n",
    "\n",
    "for package_name, tokens_list in tokens.items():\n",
    "    vocabulary = list(set(tokens_list))\n",
    "    vocabulary_package[package_name] = vocabulary\n",
    "    vocabulary_count[package_name] = len(vocabulary)\n",
    "\n",
    "data_science_readmes_pd['vocabulary'] = vocabulary_package.values()\n",
    "data_science_readmes_pd['vocabulary_count'] = vocabulary_count.values()"
   ]
  },
  {
   "cell_type": "code",
   "execution_count": 89,
   "metadata": {},
   "outputs": [
    {
     "data": {
      "image/png": "[encoded data removed]",
      "text/plain": [
       "<Figure size 2520x1080 with 1 Axes>"
      ]
     },
     "metadata": {
      "needs_background": "light"
     },
     "output_type": "display_data"
    }
   ],
   "source": [
    "data_science_readmes_pd[['vocabulary_count']].plot.bar(figsize=(35,15), grid=True);"
   ]
  },
  {
   "cell_type": "code",
   "execution_count": 90,
   "metadata": {},
   "outputs": [
    {
     "name": "stdout",
     "output_type": "stream",
     "text": [
      "corpus_vocabulary is 3498\n"
     ]
    }
   ],
   "source": [
    "corpus_vocabulary = []\n",
    "# Visualize vocabulary and distribution in each package\n",
    "for package_name, vocabulary in vocabulary_package.items():\n",
    "    for word in vocabulary:\n",
    "        if word not in corpus_vocabulary:\n",
    "            corpus_vocabulary.append(word)\n",
    "\n",
    "print(f\"corpus_vocabulary is {len(corpus_vocabulary)}\")"
   ]
  },
  {
   "cell_type": "code",
   "execution_count": 95,
   "metadata": {},
   "outputs": [],
   "source": [
    "for word in sorted(corpus_vocabulary):\n",
    "    corpus_word = []\n",
    "    for package_name, vocabulary in vocabulary_package.items():\n",
    "        if word in vocabulary:\n",
    "            corpus_word.append(True)\n",
    "        else:\n",
    "            corpus_word.append(False)\n",
    "\n",
    "    data_science_readmes_pd[word] = corpus_word"
   ]
  },
  {
   "cell_type": "code",
   "execution_count": 104,
   "metadata": {},
   "outputs": [
    {
     "data": {
      "text/html": [
       "<div>\n",
       "<style scoped>\n",
       "    .dataframe tbody tr th:only-of-type {\n",
       "        vertical-align: middle;\n",
       "    }\n",
       "\n",
       "    .dataframe tbody tr th {\n",
       "        vertical-align: top;\n",
       "    }\n",
       "\n",
       "    .dataframe thead th {\n",
       "        text-align: right;\n",
       "    }\n",
       "</style>\n",
       "<table border=\"1\" class=\"dataframe\">\n",
       "  <thead>\n",
       "    <tr style=\"text-align: right;\">\n",
       "      <th></th>\n",
       "      <th>file_name</th>\n",
       "      <th>raw_text</th>\n",
       "      <th>sentences</th>\n",
       "      <th>tokens</th>\n",
       "      <th>vocabulary</th>\n",
       "      <th>vocabulary_count</th>\n",
       "      <th>abbreviate</th>\n",
       "      <th>abide</th>\n",
       "      <th>ability</th>\n",
       "      <th>able</th>\n",
       "      <th>...</th>\n",
       "      <th>yes</th>\n",
       "      <th>yield</th>\n",
       "      <th>yin</th>\n",
       "      <th>yum</th>\n",
       "      <th>zero</th>\n",
       "      <th>zine</th>\n",
       "      <th>zip</th>\n",
       "      <th>zone</th>\n",
       "      <th>zoo</th>\n",
       "      <th>zooming</th>\n",
       "    </tr>\n",
       "  </thead>\n",
       "  <tbody>\n",
       "    <tr>\n",
       "      <th>alibi</th>\n",
       "      <td>SeldonIO/alibi/README.md</td>\n",
       "      <td>&lt;p align=\"center\"&gt;\\n  &lt;img src=\"doc/source/_st...</td>\n",
       "      <td>[(&lt;, p, align=\"center, \", &gt;, \\n  , &lt;, img, src...</td>\n",
       "      <td>[logo, build, alibi, alibi, alibi, branch, mas...</td>\n",
       "      <td>False</td>\n",
       "      <td>123</td>\n",
       "      <td>False</td>\n",
       "      <td>False</td>\n",
       "      <td>False</td>\n",
       "      <td>False</td>\n",
       "      <td>...</td>\n",
       "      <td>False</td>\n",
       "      <td>False</td>\n",
       "      <td>False</td>\n",
       "      <td>False</td>\n",
       "      <td>False</td>\n",
       "      <td>False</td>\n",
       "      <td>False</td>\n",
       "      <td>False</td>\n",
       "      <td>False</td>\n",
       "      <td>False</td>\n",
       "    </tr>\n",
       "    <tr>\n",
       "      <th>altair</th>\n",
       "      <td>altair-viz/altair/README.md</td>\n",
       "      <td># Altair &lt;a href=\"https://altair-viz.github.io...</td>\n",
       "      <td>[(#, Altair, &lt;, a, href=\"https://altair, -, vi...</td>\n",
       "      <td>[logo, build, viz, viz, viz, build, viz, style...</td>\n",
       "      <td>False</td>\n",
       "      <td>245</td>\n",
       "      <td>False</td>\n",
       "      <td>False</td>\n",
       "      <td>False</td>\n",
       "      <td>False</td>\n",
       "      <td>...</td>\n",
       "      <td>False</td>\n",
       "      <td>False</td>\n",
       "      <td>False</td>\n",
       "      <td>False</td>\n",
       "      <td>False</td>\n",
       "      <td>False</td>\n",
       "      <td>False</td>\n",
       "      <td>False</td>\n",
       "      <td>False</td>\n",
       "      <td>False</td>\n",
       "    </tr>\n",
       "    <tr>\n",
       "      <th>ax-platform</th>\n",
       "      <td>facebook/Ax/README.md</td>\n",
       "      <td>&lt;img width=\"300\" src=\"website/static/img/ax_lo...</td>\n",
       "      <td>[(&lt;, img, width=\"300, \", src=\"website, /, stat...</td>\n",
       "      <td>[static, logo, build, ax, ax, build, ax, ax, b...</td>\n",
       "      <td>False</td>\n",
       "      <td>165</td>\n",
       "      <td>False</td>\n",
       "      <td>False</td>\n",
       "      <td>True</td>\n",
       "      <td>False</td>\n",
       "      <td>...</td>\n",
       "      <td>False</td>\n",
       "      <td>False</td>\n",
       "      <td>False</td>\n",
       "      <td>False</td>\n",
       "      <td>False</td>\n",
       "      <td>False</td>\n",
       "      <td>False</td>\n",
       "      <td>False</td>\n",
       "      <td>False</td>\n",
       "      <td>False</td>\n",
       "    </tr>\n",
       "    <tr>\n",
       "      <th>arviz</th>\n",
       "      <td>arviz-devs/arviz/README.md</td>\n",
       "      <td>&lt;img src=\"https://arviz-devs.github.io/arviz/_...</td>\n",
       "      <td>[(&lt;, img, src=\"https://arviz, -, devs.github.i...</td>\n",
       "      <td>[azure, build, build, master, branch, master, ...</td>\n",
       "      <td>False</td>\n",
       "      <td>53</td>\n",
       "      <td>False</td>\n",
       "      <td>False</td>\n",
       "      <td>False</td>\n",
       "      <td>False</td>\n",
       "      <td>...</td>\n",
       "      <td>False</td>\n",
       "      <td>False</td>\n",
       "      <td>False</td>\n",
       "      <td>False</td>\n",
       "      <td>False</td>\n",
       "      <td>False</td>\n",
       "      <td>False</td>\n",
       "      <td>False</td>\n",
       "      <td>False</td>\n",
       "      <td>False</td>\n",
       "    </tr>\n",
       "    <tr>\n",
       "      <th>autogluon</th>\n",
       "      <td>awslabs/autogluon/README.md</td>\n",
       "      <td>\\n\\n&lt;div align=\"left\"&gt;\\n  &lt;img src=\"https://us...</td>\n",
       "      <td>[(\\n\\n, &lt;, div, align=\"left, \"), (&gt;, \\n  , &lt;, ...</td>\n",
       "      <td>[div, toolkit, deep, learning, build, view, jo...</td>\n",
       "      <td>False</td>\n",
       "      <td>68</td>\n",
       "      <td>False</td>\n",
       "      <td>False</td>\n",
       "      <td>False</td>\n",
       "      <td>False</td>\n",
       "      <td>...</td>\n",
       "      <td>False</td>\n",
       "      <td>False</td>\n",
       "      <td>False</td>\n",
       "      <td>False</td>\n",
       "      <td>False</td>\n",
       "      <td>False</td>\n",
       "      <td>False</td>\n",
       "      <td>False</td>\n",
       "      <td>False</td>\n",
       "      <td>False</td>\n",
       "    </tr>\n",
       "    <tr>\n",
       "      <th>...</th>\n",
       "      <td>...</td>\n",
       "      <td>...</td>\n",
       "      <td>...</td>\n",
       "      <td>...</td>\n",
       "      <td>...</td>\n",
       "      <td>...</td>\n",
       "      <td>...</td>\n",
       "      <td>...</td>\n",
       "      <td>...</td>\n",
       "      <td>...</td>\n",
       "      <td>...</td>\n",
       "      <td>...</td>\n",
       "      <td>...</td>\n",
       "      <td>...</td>\n",
       "      <td>...</td>\n",
       "      <td>...</td>\n",
       "      <td>...</td>\n",
       "      <td>...</td>\n",
       "      <td>...</td>\n",
       "      <td>...</td>\n",
       "      <td>...</td>\n",
       "    </tr>\n",
       "    <tr>\n",
       "      <th>vincent</th>\n",
       "      <td>wrobstory/vincent/README.md</td>\n",
       "      <td># Status\\n\\n#### 2016-06-18 Update\\n\\nIf you a...</td>\n",
       "      <td>[(#, Status, \\n\\n, #, #, #, #, 2016, -, 06, -,...</td>\n",
       "      <td>[update, interested, direct, support, fully, f...</td>\n",
       "      <td>False</td>\n",
       "      <td>133</td>\n",
       "      <td>False</td>\n",
       "      <td>False</td>\n",
       "      <td>False</td>\n",
       "      <td>False</td>\n",
       "      <td>...</td>\n",
       "      <td>False</td>\n",
       "      <td>False</td>\n",
       "      <td>False</td>\n",
       "      <td>False</td>\n",
       "      <td>False</td>\n",
       "      <td>False</td>\n",
       "      <td>False</td>\n",
       "      <td>False</td>\n",
       "      <td>False</td>\n",
       "      <td>False</td>\n",
       "    </tr>\n",
       "    <tr>\n",
       "      <th>voila</th>\n",
       "      <td>voila-dashboards/voila/README.md</td>\n",
       "      <td># ![voila](docs/source/voila-logo.svg)\\n\\n[![D...</td>\n",
       "      <td>[(#, !), ([, voila](docs, /, source, /, voila,...</td>\n",
       "      <td>[voila, voila, dashboard, voila, join, badge, ...</td>\n",
       "      <td>False</td>\n",
       "      <td>103</td>\n",
       "      <td>False</td>\n",
       "      <td>False</td>\n",
       "      <td>False</td>\n",
       "      <td>False</td>\n",
       "      <td>...</td>\n",
       "      <td>False</td>\n",
       "      <td>False</td>\n",
       "      <td>False</td>\n",
       "      <td>False</td>\n",
       "      <td>False</td>\n",
       "      <td>False</td>\n",
       "      <td>False</td>\n",
       "      <td>False</td>\n",
       "      <td>False</td>\n",
       "      <td>False</td>\n",
       "    </tr>\n",
       "    <tr>\n",
       "      <th>word2vec</th>\n",
       "      <td>danielfrg/word2vec/README.md</td>\n",
       "      <td>word2vec\\n========\\n\\n[![travis-ci](https://ap...</td>\n",
       "      <td>[(word2vec, \\n), (=, =, =, =, =, =, =, =, \\n\\n...</td>\n",
       "      <td>[training, original, functionality, pure, inst...</td>\n",
       "      <td>False</td>\n",
       "      <td>28</td>\n",
       "      <td>False</td>\n",
       "      <td>False</td>\n",
       "      <td>False</td>\n",
       "      <td>False</td>\n",
       "      <td>...</td>\n",
       "      <td>False</td>\n",
       "      <td>False</td>\n",
       "      <td>False</td>\n",
       "      <td>False</td>\n",
       "      <td>False</td>\n",
       "      <td>False</td>\n",
       "      <td>False</td>\n",
       "      <td>False</td>\n",
       "      <td>False</td>\n",
       "      <td>False</td>\n",
       "    </tr>\n",
       "    <tr>\n",
       "      <th>xgboost</th>\n",
       "      <td>dmlc/xgboost/README.md</td>\n",
       "      <td>&lt;img src=https://raw.githubusercontent.com/dml...</td>\n",
       "      <td>[(&lt;, img, src, =, https://raw.githubuserconten...</td>\n",
       "      <td>[master, logo, extreme, gradient, boost, build...</td>\n",
       "      <td>False</td>\n",
       "      <td>75</td>\n",
       "      <td>False</td>\n",
       "      <td>False</td>\n",
       "      <td>False</td>\n",
       "      <td>False</td>\n",
       "      <td>...</td>\n",
       "      <td>False</td>\n",
       "      <td>False</td>\n",
       "      <td>False</td>\n",
       "      <td>False</td>\n",
       "      <td>False</td>\n",
       "      <td>False</td>\n",
       "      <td>False</td>\n",
       "      <td>False</td>\n",
       "      <td>False</td>\n",
       "      <td>False</td>\n",
       "    </tr>\n",
       "    <tr>\n",
       "      <th>xlrd</th>\n",
       "      <td>python-excel/xlrd/README.md</td>\n",
       "      <td>[![Build Status](https://travis-ci.org/python-...</td>\n",
       "      <td>[([, !), ([), (Build, Status](https://travis, ...</td>\n",
       "      <td>[build, excel, excel, coverage, excel, master,...</td>\n",
       "      <td>False</td>\n",
       "      <td>96</td>\n",
       "      <td>False</td>\n",
       "      <td>False</td>\n",
       "      <td>False</td>\n",
       "      <td>False</td>\n",
       "      <td>...</td>\n",
       "      <td>False</td>\n",
       "      <td>False</td>\n",
       "      <td>False</td>\n",
       "      <td>False</td>\n",
       "      <td>False</td>\n",
       "      <td>False</td>\n",
       "      <td>False</td>\n",
       "      <td>False</td>\n",
       "      <td>False</td>\n",
       "      <td>False</td>\n",
       "    </tr>\n",
       "  </tbody>\n",
       "</table>\n",
       "<p>119 rows × 3503 columns</p>\n",
       "</div>"
      ],
      "text/plain": [
       "                                    file_name  \\\n",
       "alibi                SeldonIO/alibi/README.md   \n",
       "altair            altair-viz/altair/README.md   \n",
       "ax-platform             facebook/Ax/README.md   \n",
       "arviz              arviz-devs/arviz/README.md   \n",
       "autogluon         awslabs/autogluon/README.md   \n",
       "...                                       ...   \n",
       "vincent           wrobstory/vincent/README.md   \n",
       "voila        voila-dashboards/voila/README.md   \n",
       "word2vec         danielfrg/word2vec/README.md   \n",
       "xgboost                dmlc/xgboost/README.md   \n",
       "xlrd              python-excel/xlrd/README.md   \n",
       "\n",
       "                                                      raw_text  \\\n",
       "alibi        <p align=\"center\">\\n  <img src=\"doc/source/_st...   \n",
       "altair       # Altair <a href=\"https://altair-viz.github.io...   \n",
       "ax-platform  <img width=\"300\" src=\"website/static/img/ax_lo...   \n",
       "arviz        <img src=\"https://arviz-devs.github.io/arviz/_...   \n",
       "autogluon    \\n\\n<div align=\"left\">\\n  <img src=\"https://us...   \n",
       "...                                                        ...   \n",
       "vincent      # Status\\n\\n#### 2016-06-18 Update\\n\\nIf you a...   \n",
       "voila        # ![voila](docs/source/voila-logo.svg)\\n\\n[![D...   \n",
       "word2vec     word2vec\\n========\\n\\n[![travis-ci](https://ap...   \n",
       "xgboost      <img src=https://raw.githubusercontent.com/dml...   \n",
       "xlrd         [![Build Status](https://travis-ci.org/python-...   \n",
       "\n",
       "                                                     sentences  \\\n",
       "alibi        [(<, p, align=\"center, \", >, \\n  , <, img, src...   \n",
       "altair       [(#, Altair, <, a, href=\"https://altair, -, vi...   \n",
       "ax-platform  [(<, img, width=\"300, \", src=\"website, /, stat...   \n",
       "arviz        [(<, img, src=\"https://arviz, -, devs.github.i...   \n",
       "autogluon    [(\\n\\n, <, div, align=\"left, \"), (>, \\n  , <, ...   \n",
       "...                                                        ...   \n",
       "vincent      [(#, Status, \\n\\n, #, #, #, #, 2016, -, 06, -,...   \n",
       "voila        [(#, !), ([, voila](docs, /, source, /, voila,...   \n",
       "word2vec     [(word2vec, \\n), (=, =, =, =, =, =, =, =, \\n\\n...   \n",
       "xgboost      [(<, img, src, =, https://raw.githubuserconten...   \n",
       "xlrd         [([, !), ([), (Build, Status](https://travis, ...   \n",
       "\n",
       "                                                        tokens  vocabulary  \\\n",
       "alibi        [logo, build, alibi, alibi, alibi, branch, mas...       False   \n",
       "altair       [logo, build, viz, viz, viz, build, viz, style...       False   \n",
       "ax-platform  [static, logo, build, ax, ax, build, ax, ax, b...       False   \n",
       "arviz        [azure, build, build, master, branch, master, ...       False   \n",
       "autogluon    [div, toolkit, deep, learning, build, view, jo...       False   \n",
       "...                                                        ...         ...   \n",
       "vincent      [update, interested, direct, support, fully, f...       False   \n",
       "voila        [voila, voila, dashboard, voila, join, badge, ...       False   \n",
       "word2vec     [training, original, functionality, pure, inst...       False   \n",
       "xgboost      [master, logo, extreme, gradient, boost, build...       False   \n",
       "xlrd         [build, excel, excel, coverage, excel, master,...       False   \n",
       "\n",
       "             vocabulary_count  abbreviate  abide  ability   able  ...    yes  \\\n",
       "alibi                     123       False  False    False  False  ...  False   \n",
       "altair                    245       False  False    False  False  ...  False   \n",
       "ax-platform               165       False  False     True  False  ...  False   \n",
       "arviz                      53       False  False    False  False  ...  False   \n",
       "autogluon                  68       False  False    False  False  ...  False   \n",
       "...                       ...         ...    ...      ...    ...  ...    ...   \n",
       "vincent                   133       False  False    False  False  ...  False   \n",
       "voila                     103       False  False    False  False  ...  False   \n",
       "word2vec                   28       False  False    False  False  ...  False   \n",
       "xgboost                    75       False  False    False  False  ...  False   \n",
       "xlrd                       96       False  False    False  False  ...  False   \n",
       "\n",
       "             yield    yin    yum   zero   zine    zip   zone    zoo  zooming  \n",
       "alibi        False  False  False  False  False  False  False  False    False  \n",
       "altair       False  False  False  False  False  False  False  False    False  \n",
       "ax-platform  False  False  False  False  False  False  False  False    False  \n",
       "arviz        False  False  False  False  False  False  False  False    False  \n",
       "autogluon    False  False  False  False  False  False  False  False    False  \n",
       "...            ...    ...    ...    ...    ...    ...    ...    ...      ...  \n",
       "vincent      False  False  False  False  False  False  False  False    False  \n",
       "voila        False  False  False  False  False  False  False  False    False  \n",
       "word2vec     False  False  False  False  False  False  False  False    False  \n",
       "xgboost      False  False  False  False  False  False  False  False    False  \n",
       "xlrd         False  False  False  False  False  False  False  False    False  \n",
       "\n",
       "[119 rows x 3503 columns]"
      ]
     },
     "execution_count": 104,
     "metadata": {},
     "output_type": "execute_result"
    }
   ],
   "source": [
    "data_science_readmes_pd"
   ]
  },
  {
   "cell_type": "code",
   "execution_count": null,
   "metadata": {},
   "outputs": [],
   "source": []
  }
 ],
 "metadata": {
  "kernelspec": {
   "display_name": "Python 3",
   "language": "python",
   "name": "python3"
  },
  "language_info": {
   "codemirror_mode": {
    "name": "ipython",
    "version": 3
   },
   "file_extension": ".py",
   "mimetype": "text/x-python",
   "name": "python",
   "nbconvert_exporter": "python",
   "pygments_lexer": "ipython3",
   "version": "3.6.8"
  }
 },
 "nbformat": 4,
 "nbformat_minor": 4
}
